{
  "nbformat": 4,
  "nbformat_minor": 0,
  "metadata": {
    "colab": {
      "provenance": []
    },
    "kernelspec": {
      "name": "python3",
      "display_name": "Python 3"
    },
    "language_info": {
      "name": "python"
    }
  },
  "cells": [
    {
      "cell_type": "code",
      "execution_count": null,
      "metadata": {
        "id": "3OYOLLnEEsMV"
      },
      "outputs": [],
      "source": [
        "import random"
      ]
    },
    {
      "cell_type": "code",
      "source": [
        "var = random.randint(3, 15)\n",
        "print(var)\n",
        "if var == 3 or 6 or 9 or 12 or 15:\n",
        "  print(\"Fizz\")\n",
        "if var == 5 or 10 or 15:\n",
        "  print(\"Buzz\")\n",
        "if var == 15:\n",
        "  print(\"FizzBuzz\")\n",
        "else:\n",
        "  print(1,2,4,7,8,11,13,14)"
      ],
      "metadata": {
        "colab": {
          "base_uri": "https://localhost:8080/"
        },
        "id": "2vq0mCfoFLbM",
        "outputId": "419e80e0-73a5-4cc7-9631-57be7f11167a"
      },
      "execution_count": 45,
      "outputs": [
        {
          "output_type": "stream",
          "name": "stdout",
          "text": [
            "14\n",
            "Fizz\n",
            "Buzz\n",
            "1 2 4 7 8 11 13 14\n"
          ]
        }
      ]
    },
    {
      "cell_type": "code",
      "source": [],
      "metadata": {
        "id": "jIJj1dRpFkU7"
      },
      "execution_count": 43,
      "outputs": []
    }
  ]
}