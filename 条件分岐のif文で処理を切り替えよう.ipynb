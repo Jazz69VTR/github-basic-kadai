{
  "nbformat": 4,
  "nbformat_minor": 0,
  "metadata": {
    "colab": {
      "provenance": []
    },
    "kernelspec": {
      "name": "python3",
      "display_name": "Python 3"
    },
    "language_info": {
      "name": "python"
    }
  },
  "cells": [
    {
      "cell_type": "code",
      "execution_count": 1,
      "metadata": {
        "id": "3OYOLLnEEsMV"
      },
      "outputs": [],
      "source": [
        "import random"
      ]
    },
    {
      "cell_type": "code",
      "source": [
        "var = random.randint(3, 5)\n",
        "print(var)\n",
        "if var == 3:\n",
        "  print(\"Fizz\")\n",
        "elif var == 5:\n",
        "  print(\"Buzz\")\n",
        "else:\n",
        "  print(\"FizzBuzz\")"
      ],
      "metadata": {
        "colab": {
          "base_uri": "https://localhost:8080/"
        },
        "id": "2vq0mCfoFLbM",
        "outputId": "bb17c856-1f16-4c7f-aff0-ae4fc98d8d96"
      },
      "execution_count": 30,
      "outputs": [
        {
          "output_type": "stream",
          "name": "stdout",
          "text": [
            "5\n",
            "Buzz\n"
          ]
        }
      ]
    },
    {
      "cell_type": "code",
      "source": [],
      "metadata": {
        "id": "jIJj1dRpFkU7"
      },
      "execution_count": null,
      "outputs": []
    }
  ]
}