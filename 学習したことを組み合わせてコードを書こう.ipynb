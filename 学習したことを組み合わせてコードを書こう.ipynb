{
  "nbformat": 4,
  "nbformat_minor": 0,
  "metadata": {
    "colab": {
      "provenance": []
    },
    "kernelspec": {
      "name": "python3",
      "display_name": "Python 3"
    },
    "language_info": {
      "name": "python"
    }
  },
  "cells": [
    {
      "cell_type": "code",
      "source": [
        "class Human:\n",
        "  def __init__(self, name,age):\n",
        "    self.name = name\n",
        "    self.age = age\n",
        "\n",
        "  def check_adult(self):\n",
        "    if self.age >= 20:\n",
        "      print(f\"{self.name}は大人\")\n",
        "    else:\n",
        "        print(f\"{self.name}はこども\")\n",
        "\n",
        "\n",
        "people = [\n",
        "    Human(\"一郎\", 19),\n",
        "    Human(\"二郎\", 20),\n",
        "]\n",
        "\n",
        "for person in people:\n",
        "  person.check_adult()\n",
        "  print(person.name, person.age)\n",
        "\n",
        "\n"
      ],
      "metadata": {
        "colab": {
          "base_uri": "https://localhost:8080/"
        },
        "id": "hhYNsM6rc_g9",
        "outputId": "429480ce-ed6a-44ae-9721-586f4c76ce2d"
      },
      "execution_count": 5,
      "outputs": [
        {
          "output_type": "stream",
          "name": "stdout",
          "text": [
            "一郎はこども\n",
            "一郎 19\n",
            "二郎は大人\n",
            "二郎 20\n"
          ]
        }
      ]
    },
    {
      "cell_type": "code",
      "source": [],
      "metadata": {
        "id": "wE5aacwr3XYP"
      },
      "execution_count": null,
      "outputs": []
    }
  ]
}