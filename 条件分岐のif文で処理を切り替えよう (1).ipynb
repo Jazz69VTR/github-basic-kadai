{
  "nbformat": 4,
  "nbformat_minor": 0,
  "metadata": {
    "colab": {
      "provenance": []
    },
    "kernelspec": {
      "name": "python3",
      "display_name": "Python 3"
    },
    "language_info": {
      "name": "python"
    }
  },
  "cells": [
    {
      "cell_type": "code",
      "execution_count": 1,
      "metadata": {
        "id": "3OYOLLnEEsMV"
      },
      "outputs": [],
      "source": [
        "import random"
      ]
    },
    {
      "cell_type": "code",
      "source": [
        "var = random.randint(3, 15)\n",
        "print(var)\n",
        "if var == 3 or 9:\n",
        "  print(\"Fizz\")\n",
        "if var == 5 or 10 or 15:\n",
        "  print(\"Buzz\")\n",
        "if var == 3 or 9 or 5 or 10 or 15:\n",
        "  print(\"FizzBuzz\")\n",
        "else:\n",
        "  print(1,2,4,6,7,8,11,12,13,14)"
      ],
      "metadata": {
        "colab": {
          "base_uri": "https://localhost:8080/"
        },
        "id": "2vq0mCfoFLbM",
        "outputId": "e25a8f96-46f6-4ffe-994e-a28be6ada642"
      },
      "execution_count": 42,
      "outputs": [
        {
          "output_type": "stream",
          "name": "stdout",
          "text": [
            "13\n",
            "Fizz\n",
            "Buzz\n",
            "FizzBuzz\n"
          ]
        }
      ]
    },
    {
      "cell_type": "code",
      "source": [],
      "metadata": {
        "id": "jIJj1dRpFkU7"
      },
      "execution_count": null,
      "outputs": []
    }
  ]
}