{
  "nbformat": 4,
  "nbformat_minor": 0,
  "metadata": {
    "colab": {
      "provenance": []
    },
    "kernelspec": {
      "name": "python3",
      "display_name": "Python 3"
    },
    "language_info": {
      "name": "python"
    }
  },
  "cells": [
    {
      "cell_type": "code",
      "execution_count": 8,
      "metadata": {
        "colab": {
          "base_uri": "https://localhost:8080/"
        },
        "id": "wVzql_uOnBco",
        "outputId": "9b4729bf-73b5-442b-fb57-0e084ac9e886"
      },
      "outputs": [
        {
          "output_type": "stream",
          "name": "stdout",
          "text": [
            "The beatles\n"
          ]
        }
      ],
      "source": [
        "artists = {\n",
        "    \"Help\": \"The beatles\",\n",
        "    \"God only knows\": \"The beach boys\",\n",
        "    \"Alive\": \"Pearl jam\",\n",
        "    \"Panic\": \"The Smiths\",\n",
        "    \"Player X\": \"King Gnu\",\n",
        "    \"Tears\": \"X Japan\",\n",
        "    \"Angel eyes\": \"Jim Hall\",\n",
        "    \"Changes\": \"David Bowie\",\n",
        "    \"London Calling\": \"The Clash\",\n",
        "    \"Illimatic\": \"Nas\",\n",
        "    \"Tutu\": \"Miles Davis\"\n",
        "}\n",
        "\n",
        "def get_artists(number):\n",
        "  return artists.get(number)\n",
        "\n",
        "print(get_artists(\"Help\"))\n",
        "\n"
      ]
    },
    {
      "cell_type": "code",
      "source": [],
      "metadata": {
        "id": "1kGL7DiKE7BU"
      },
      "execution_count": null,
      "outputs": []
    },
    {
      "cell_type": "code",
      "source": [],
      "metadata": {
        "id": "Z9pjsLKLERNe"
      },
      "execution_count": null,
      "outputs": []
    }
  ]
}